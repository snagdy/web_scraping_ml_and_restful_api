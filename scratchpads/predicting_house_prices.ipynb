{
 "cells": [
  {
   "cell_type": "code",
   "execution_count": 1,
   "metadata": {},
   "outputs": [
    {
     "name": "stderr",
     "output_type": "stream",
     "text": [
      "C:\\ProgramData\\Anaconda2\\lib\\site-packages\\sklearn\\ensemble\\weight_boosting.py:29: DeprecationWarning: numpy.core.umath_tests is an internal NumPy module and should not be imported. It will be removed in a future NumPy release.\n",
      "  from numpy.core.umath_tests import inner1d\n"
     ]
    }
   ],
   "source": [
    "import json\n",
    "import pandas as pd\n",
    "\n",
    "\n",
    "from collections import namedtuple\n",
    "from urllib2 import urlopen, Request, quote, HTTPError\n",
    "from bs4 import BeautifulSoup\n",
    "from datetime import datetime\n",
    "from sklearn.cluster import KMeans\n",
    "from sklearn.ensemble import RandomForestRegressor\n",
    "\n",
    "from joblib import load"
   ]
  },
  {
   "cell_type": "code",
   "execution_count": 2,
   "metadata": {},
   "outputs": [],
   "source": [
    "# We will define our API input data processing functions; this could be an Apache Spark DAG in production, or some other\n",
    "# stream processing graph technology, for handling API queries; load balancing could be done by having multiple workers in each\n",
    "# graph node ready to process request data, with each request data item having a unique request ID to allow the distributed\n",
    "# data transformations and calculations to return the correct result for a given query to the API.\n",
    "# Each node in our stream processing DAG could be a generic cloud host, with a specific pod of containers for a given task.\n",
    "# Kubernetes can be used to manage which hosts run which container pods for which part of the DAG, and direct traffic possibly.\n",
    "\n",
    "def api_get_geodata_object(openstreetmap_api_url):\n",
    "    \"\"\"this function takes our OpenStreetMap API URL and returns a JSON response.\n",
    "    We also write the response to disk for safe keeping\"\"\"\n",
    "    try:\n",
    "        url = openstreetmap_api_url\n",
    "        req = Request(url, headers={\"User-Agent\": \"Mozilla/5.0\"})\n",
    "        json_response_text = BeautifulSoup(urlopen(req), \"lxml\").text\n",
    "        json_response = json.loads(json_response_text)\n",
    "        return json_response\n",
    "    except HTTPError as err:\n",
    "        if err.code == 429:\n",
    "            print \"HTTP Error 429: You've been blocked for being naughty.\"\n",
    "            return []\n",
    "        else:\n",
    "            print \"HTTP Error {}: Look it up.\".format(err.code)\n",
    "            return []\n",
    "\n",
    "def api_clean_json(json_string):\n",
    "    \"\"\"This function cleans some of our JSON  keys, which clash with Python keywords\"\"\"\n",
    "    result = json.dumps(json_string)\n",
    "    result = result.replace(\"class\", \"category\")\n",
    "    result = result.replace(\"type\", \"subcategory\")\n",
    "    result = result.replace(\"osm_subcategory\", \"osm_type\")\n",
    "    return result\n",
    "\n",
    "def api_convert_json_to_named_tuple(json_):\n",
    "    \"\"\"This function is solely for our convenience when referencing JSON response attributes in dataset creation\"\"\"\n",
    "    return json.loads(json_, object_hook=lambda dict_: namedtuple('X', dict_.keys())(*dict_.values()))\n",
    "\n",
    "def api_load_geodata_attributes(geodata_obj):\n",
    "    \"\"\"This function takes a JSON response namedtuple object and returns OpenStreetMap API attributes in a tuple\"\"\"\n",
    "    try:\n",
    "        return (geodata_obj.category,\n",
    "                geodata_obj.subcategory,\n",
    "                float(geodata_obj.importance),\n",
    "                float(geodata_obj.lon),\n",
    "                float(geodata_obj.lat))\n",
    "    except AttributeError: # this handles the case where our JSON loader did not find a JSON response from the API URL.\n",
    "        return (np.nan, np.nan, np.nan, np.nan, np.nan)"
   ]
  },
  {
   "cell_type": "code",
   "execution_count": 3,
   "metadata": {},
   "outputs": [],
   "source": [
    "# We call our data transformation functions below. This represents the order of transformations in our admittedly 'linear' graph.\n",
    "\n",
    "# Example used to lookup OpenStreetMap Data - 91 Dames Road, London, E7 0DW\n",
    "address = '91 Dames Road, London, E7 0DW' # API input from user.\n",
    "\n",
    "generic_osm_query_url = \"https://nominatim.openstreetmap.org/search?q=\\\"{}\\\"&format=json\"\n",
    "open_street_map_api_query = generic_osm_query_url.format(address.replace(\" \", \"%20\"))\n",
    "\n",
    "result = api_get_geodata_object(open_street_map_api_query)\n",
    "top_result = result if len(result) == 0 else result[0]\n",
    "top_result_json = api_clean_json(top_result)\n",
    "geodata_object = api_convert_json_to_named_tuple(top_result_json)\n",
    "\n",
    "# We now extract the data from our named_tuple object, to be assigned to our prediction dataset.\n",
    "geodata = api_load_geodata_attributes(geodata_object)\n",
    "category = geodata[0]\n",
    "subcategory = geodata[1]\n",
    "importance = geodata[2]\n",
    "longitude = geodata[3]\n",
    "latitude = geodata[4]"
   ]
  },
  {
   "cell_type": "code",
   "execution_count": 4,
   "metadata": {},
   "outputs": [],
   "source": [
    "# We will define our dataset for prediction here:\n",
    "\n",
    "dataset = {}\n",
    "\n",
    "dataset['importance'] = importance\n",
    "dataset['latitude'] = latitude\n",
    "dataset['longitude'] = longitude\n",
    "\n",
    "# Our model accepts user input specifying if a house is a non-newbuild or a newbuild.\n",
    "new_build = False # API input from user.\n",
    "dataset['Non-Newbuild'] = 1 if not new_build else 0\n",
    "\n",
    "flat_type = 'Terraced' # API input from user.\n",
    "flat_type_list = ['Detached','Flat','Semi Detached','Terraced']\n",
    "for label in flat_type_list:\n",
    "    dataset[label] = 1 if label == flat_type else 0\n",
    "\n",
    "lease_type = 'Leasehold' # API input from user.\n",
    "lease_type_list = ['Leasehold', 'Freehold']\n",
    "for lease_label in lease_type_list:\n",
    "    dataset[lease_label] = 1 if lease_label == lease_type else 0\n",
    "\n",
    "cat_subcat_list = ['amenity','building','highway','landuse','place','shop','cafe','city','convenience','cycleway','footway',\n",
    "'house','houses','living_street','pedestrian','primary','residential','restaurant','secondary','service','suburb','tertiary',\n",
    "'trunk','uncategoryified','yes']\n",
    "\n",
    "for cat_or_subcat in cat_subcat_list:\n",
    "    dataset[cat_or_subcat] = 1 if (category == cat_or_subcat or subcategory == cat_or_subcat) else 0"
   ]
  },
  {
   "cell_type": "code",
   "execution_count": 5,
   "metadata": {},
   "outputs": [
    {
     "data": {
      "text/html": [
       "<div>\n",
       "<style scoped>\n",
       "    .dataframe tbody tr th:only-of-type {\n",
       "        vertical-align: middle;\n",
       "    }\n",
       "\n",
       "    .dataframe tbody tr th {\n",
       "        vertical-align: top;\n",
       "    }\n",
       "\n",
       "    .dataframe thead th {\n",
       "        text-align: right;\n",
       "    }\n",
       "</style>\n",
       "<table border=\"1\" class=\"dataframe\">\n",
       "  <thead>\n",
       "    <tr style=\"text-align: right;\">\n",
       "      <th></th>\n",
       "      <th>Detached</th>\n",
       "      <th>Flat</th>\n",
       "      <th>Freehold</th>\n",
       "      <th>Leasehold</th>\n",
       "      <th>Non-Newbuild</th>\n",
       "      <th>Semi Detached</th>\n",
       "      <th>Terraced</th>\n",
       "      <th>amenity</th>\n",
       "      <th>building</th>\n",
       "      <th>cafe</th>\n",
       "      <th>...</th>\n",
       "      <th>residential</th>\n",
       "      <th>restaurant</th>\n",
       "      <th>secondary</th>\n",
       "      <th>service</th>\n",
       "      <th>shop</th>\n",
       "      <th>suburb</th>\n",
       "      <th>tertiary</th>\n",
       "      <th>trunk</th>\n",
       "      <th>uncategoryified</th>\n",
       "      <th>yes</th>\n",
       "    </tr>\n",
       "  </thead>\n",
       "  <tbody>\n",
       "    <tr>\n",
       "      <th>0</th>\n",
       "      <td>0</td>\n",
       "      <td>0</td>\n",
       "      <td>0</td>\n",
       "      <td>1</td>\n",
       "      <td>1</td>\n",
       "      <td>0</td>\n",
       "      <td>1</td>\n",
       "      <td>0</td>\n",
       "      <td>0</td>\n",
       "      <td>0</td>\n",
       "      <td>...</td>\n",
       "      <td>0</td>\n",
       "      <td>0</td>\n",
       "      <td>1</td>\n",
       "      <td>0</td>\n",
       "      <td>0</td>\n",
       "      <td>0</td>\n",
       "      <td>0</td>\n",
       "      <td>0</td>\n",
       "      <td>0</td>\n",
       "      <td>0</td>\n",
       "    </tr>\n",
       "  </tbody>\n",
       "</table>\n",
       "<p>1 rows × 35 columns</p>\n",
       "</div>"
      ],
      "text/plain": [
       "   Detached  Flat  Freehold  Leasehold  Non-Newbuild  Semi Detached  Terraced  \\\n",
       "0         0     0         0          1             1              0         1   \n",
       "\n",
       "   amenity  building  cafe ...   residential  restaurant  secondary  service  \\\n",
       "0        0         0     0 ...             0           0          1        0   \n",
       "\n",
       "   shop  suburb  tertiary  trunk  uncategoryified  yes  \n",
       "0     0       0         0      0                0    0  \n",
       "\n",
       "[1 rows x 35 columns]"
      ]
     },
     "execution_count": 5,
     "metadata": {},
     "output_type": "execute_result"
    }
   ],
   "source": [
    "# We will now convert our dataset dictionary to a Pandas DataFrame our KMM can label, and our Random Forest Regressor can\n",
    "# predict the price from.\n",
    "\n",
    "# Feature set without lat lon cluster label from KMM.\n",
    "X = pd.DataFrame(dataset, index=[0])\n",
    "X"
   ]
  },
  {
   "cell_type": "code",
   "execution_count": 6,
   "metadata": {},
   "outputs": [
    {
     "data": {
      "text/html": [
       "<div>\n",
       "<style scoped>\n",
       "    .dataframe tbody tr th:only-of-type {\n",
       "        vertical-align: middle;\n",
       "    }\n",
       "\n",
       "    .dataframe tbody tr th {\n",
       "        vertical-align: top;\n",
       "    }\n",
       "\n",
       "    .dataframe thead th {\n",
       "        text-align: right;\n",
       "    }\n",
       "</style>\n",
       "<table border=\"1\" class=\"dataframe\">\n",
       "  <thead>\n",
       "    <tr style=\"text-align: right;\">\n",
       "      <th></th>\n",
       "      <th>latitude</th>\n",
       "      <th>longitude</th>\n",
       "    </tr>\n",
       "  </thead>\n",
       "  <tbody>\n",
       "    <tr>\n",
       "      <th>0</th>\n",
       "      <td>51.553902</td>\n",
       "      <td>0.023391</td>\n",
       "    </tr>\n",
       "  </tbody>\n",
       "</table>\n",
       "</div>"
      ],
      "text/plain": [
       "    latitude  longitude\n",
       "0  51.553902   0.023391"
      ]
     },
     "execution_count": 6,
     "metadata": {},
     "output_type": "execute_result"
    }
   ],
   "source": [
    "kmm_X = pd.DataFrame([X.latitude, X.longitude]).T\n",
    "kmm_X"
   ]
  },
  {
   "cell_type": "code",
   "execution_count": 7,
   "metadata": {},
   "outputs": [
    {
     "data": {
      "text/plain": [
       "array([2])"
      ]
     },
     "execution_count": 7,
     "metadata": {},
     "output_type": "execute_result"
    }
   ],
   "source": [
    "# We will load our KMM and obtain a cluster prediction for our observation. This node in our DAG could run multiple container\n",
    "# instances on a single host for load balancing; a pod dedicated to this transformation on a single host should be enough.\n",
    "\n",
    "kmm = load('k_means_clustering_model.joblib')\n",
    "cluster_prediction = kmm.predict(kmm_X)\n",
    "cluster_prediction"
   ]
  },
  {
   "cell_type": "code",
   "execution_count": 8,
   "metadata": {},
   "outputs": [
    {
     "data": {
      "text/html": [
       "<div>\n",
       "<style scoped>\n",
       "    .dataframe tbody tr th:only-of-type {\n",
       "        vertical-align: middle;\n",
       "    }\n",
       "\n",
       "    .dataframe tbody tr th {\n",
       "        vertical-align: top;\n",
       "    }\n",
       "\n",
       "    .dataframe thead th {\n",
       "        text-align: right;\n",
       "    }\n",
       "</style>\n",
       "<table border=\"1\" class=\"dataframe\">\n",
       "  <thead>\n",
       "    <tr style=\"text-align: right;\">\n",
       "      <th></th>\n",
       "      <th>0</th>\n",
       "      <th>1</th>\n",
       "      <th>2</th>\n",
       "      <th>3</th>\n",
       "      <th>4</th>\n",
       "      <th>5</th>\n",
       "      <th>6</th>\n",
       "      <th>7</th>\n",
       "      <th>8</th>\n",
       "      <th>9</th>\n",
       "    </tr>\n",
       "  </thead>\n",
       "  <tbody>\n",
       "    <tr>\n",
       "      <th>0</th>\n",
       "      <td>0</td>\n",
       "      <td>0</td>\n",
       "      <td>1</td>\n",
       "      <td>0</td>\n",
       "      <td>0</td>\n",
       "      <td>0</td>\n",
       "      <td>0</td>\n",
       "      <td>0</td>\n",
       "      <td>0</td>\n",
       "      <td>0</td>\n",
       "    </tr>\n",
       "  </tbody>\n",
       "</table>\n",
       "</div>"
      ],
      "text/plain": [
       "   0  1  2  3  4  5  6  7  8  9\n",
       "0  0  0  1  0  0  0  0  0  0  0"
      ]
     },
     "execution_count": 8,
     "metadata": {},
     "output_type": "execute_result"
    }
   ],
   "source": [
    "# We will now create our cluster label variables and assign our cluster_prediction label to 1.\n",
    "\n",
    "cluster_dummies = {str(i) : 0 for i in xrange(0, 10)}\n",
    "cluster_dummies[str(cluster_prediction[0])] = 1\n",
    "cd_df = pd.DataFrame(cluster_dummies, index=[0])\n",
    "cd_df"
   ]
  },
  {
   "cell_type": "code",
   "execution_count": 9,
   "metadata": {},
   "outputs": [
    {
     "data": {
      "text/html": [
       "<div>\n",
       "<style scoped>\n",
       "    .dataframe tbody tr th:only-of-type {\n",
       "        vertical-align: middle;\n",
       "    }\n",
       "\n",
       "    .dataframe tbody tr th {\n",
       "        vertical-align: top;\n",
       "    }\n",
       "\n",
       "    .dataframe thead th {\n",
       "        text-align: right;\n",
       "    }\n",
       "</style>\n",
       "<table border=\"1\" class=\"dataframe\">\n",
       "  <thead>\n",
       "    <tr style=\"text-align: right;\">\n",
       "      <th></th>\n",
       "      <th>Detached</th>\n",
       "      <th>Flat</th>\n",
       "      <th>Freehold</th>\n",
       "      <th>Leasehold</th>\n",
       "      <th>Non-Newbuild</th>\n",
       "      <th>Semi Detached</th>\n",
       "      <th>Terraced</th>\n",
       "      <th>amenity</th>\n",
       "      <th>building</th>\n",
       "      <th>cafe</th>\n",
       "      <th>...</th>\n",
       "      <th>0</th>\n",
       "      <th>1</th>\n",
       "      <th>2</th>\n",
       "      <th>3</th>\n",
       "      <th>4</th>\n",
       "      <th>5</th>\n",
       "      <th>6</th>\n",
       "      <th>7</th>\n",
       "      <th>8</th>\n",
       "      <th>9</th>\n",
       "    </tr>\n",
       "  </thead>\n",
       "  <tbody>\n",
       "    <tr>\n",
       "      <th>0</th>\n",
       "      <td>0</td>\n",
       "      <td>0</td>\n",
       "      <td>0</td>\n",
       "      <td>1</td>\n",
       "      <td>1</td>\n",
       "      <td>0</td>\n",
       "      <td>1</td>\n",
       "      <td>0</td>\n",
       "      <td>0</td>\n",
       "      <td>0</td>\n",
       "      <td>...</td>\n",
       "      <td>0</td>\n",
       "      <td>0</td>\n",
       "      <td>1</td>\n",
       "      <td>0</td>\n",
       "      <td>0</td>\n",
       "      <td>0</td>\n",
       "      <td>0</td>\n",
       "      <td>0</td>\n",
       "      <td>0</td>\n",
       "      <td>0</td>\n",
       "    </tr>\n",
       "  </tbody>\n",
       "</table>\n",
       "<p>1 rows × 45 columns</p>\n",
       "</div>"
      ],
      "text/plain": [
       "   Detached  Flat  Freehold  Leasehold  Non-Newbuild  Semi Detached  Terraced  \\\n",
       "0         0     0         0          1             1              0         1   \n",
       "\n",
       "   amenity  building  cafe ...  0  1  2  3  4  5  6  7  8  9  \n",
       "0        0         0     0 ...  0  0  1  0  0  0  0  0  0  0  \n",
       "\n",
       "[1 rows x 45 columns]"
      ]
     },
     "execution_count": 9,
     "metadata": {},
     "output_type": "execute_result"
    }
   ],
   "source": [
    "# We now concatenate the cluster labels DataFrame with the features DataFrame and get the final DataFrame for our\n",
    "# Random Forest Regressor model.\n",
    "\n",
    "rfr_X = pd.concat([X, cd_df], axis=1)\n",
    "rfr_X"
   ]
  },
  {
   "cell_type": "code",
   "execution_count": 10,
   "metadata": {},
   "outputs": [
    {
     "name": "stdout",
     "output_type": "stream",
     "text": [
      "<class 'pandas.core.frame.DataFrame'>\n",
      "Int64Index: 1 entries, 0 to 0\n",
      "Data columns (total 45 columns):\n",
      "Detached           1 non-null int64\n",
      "Flat               1 non-null int64\n",
      "Freehold           1 non-null int64\n",
      "Leasehold          1 non-null int64\n",
      "Non-Newbuild       1 non-null int64\n",
      "Semi Detached      1 non-null int64\n",
      "Terraced           1 non-null int64\n",
      "amenity            1 non-null int64\n",
      "building           1 non-null int64\n",
      "cafe               1 non-null int64\n",
      "city               1 non-null int64\n",
      "convenience        1 non-null int64\n",
      "cycleway           1 non-null int64\n",
      "footway            1 non-null int64\n",
      "highway            1 non-null int64\n",
      "house              1 non-null int64\n",
      "houses             1 non-null int64\n",
      "importance         1 non-null float64\n",
      "landuse            1 non-null int64\n",
      "latitude           1 non-null float64\n",
      "living_street      1 non-null int64\n",
      "longitude          1 non-null float64\n",
      "pedestrian         1 non-null int64\n",
      "place              1 non-null int64\n",
      "primary            1 non-null int64\n",
      "residential        1 non-null int64\n",
      "restaurant         1 non-null int64\n",
      "secondary          1 non-null int64\n",
      "service            1 non-null int64\n",
      "shop               1 non-null int64\n",
      "suburb             1 non-null int64\n",
      "tertiary           1 non-null int64\n",
      "trunk              1 non-null int64\n",
      "uncategoryified    1 non-null int64\n",
      "yes                1 non-null int64\n",
      "0                  1 non-null int64\n",
      "1                  1 non-null int64\n",
      "2                  1 non-null int64\n",
      "3                  1 non-null int64\n",
      "4                  1 non-null int64\n",
      "5                  1 non-null int64\n",
      "6                  1 non-null int64\n",
      "7                  1 non-null int64\n",
      "8                  1 non-null int64\n",
      "9                  1 non-null int64\n",
      "dtypes: float64(3), int64(42)\n",
      "memory usage: 448.0 bytes\n"
     ]
    }
   ],
   "source": [
    "# We inspect our final variables feeding the Random Forest Regressor to make sure we have as many as we expect, and of the right\n",
    "# type.\n",
    "\n",
    "rfr_X.info()"
   ]
  },
  {
   "cell_type": "code",
   "execution_count": 11,
   "metadata": {},
   "outputs": [
    {
     "data": {
      "text/plain": [
       "array([731333.4])"
      ]
     },
     "execution_count": 11,
     "metadata": {},
     "output_type": "execute_result"
    }
   ],
   "source": [
    "# We will now return the final result of prediction on the transformed data using mock API user input.\n",
    "\n",
    "rfr = load('serialised_random_forest_regressor.joblib')\n",
    "rfr.predict(rfr_X)"
   ]
  }
 ],
 "metadata": {
  "kernelspec": {
   "display_name": "Python 2",
   "language": "python",
   "name": "python2"
  },
  "language_info": {
   "codemirror_mode": {
    "name": "ipython",
    "version": 2
   },
   "file_extension": ".py",
   "mimetype": "text/x-python",
   "name": "python",
   "nbconvert_exporter": "python",
   "pygments_lexer": "ipython2",
   "version": "2.7.15"
  }
 },
 "nbformat": 4,
 "nbformat_minor": 2
}
